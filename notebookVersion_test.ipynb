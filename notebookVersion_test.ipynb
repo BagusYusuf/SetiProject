{
 "cells": [
  {
   "cell_type": "code",
   "execution_count": 64,
   "metadata": {},
   "outputs": [],
   "source": [
    "from __future__ import print_function\n",
    "\n",
    "import os\n",
    "import cv2\n",
    "import numpy as np\n",
    "import pandas as pd\n",
    "import tensorflow.keras\n",
    "from sklearn import preprocessing\n",
    "from sklearn.metrics import confusion_matrix, roc_curve, auc, accuracy_score\n",
    "\n",
    "from dataPreparation import loadData, preprocess"
   ]
  },
  {
   "cell_type": "code",
   "execution_count": 2,
   "metadata": {},
   "outputs": [],
   "source": [
    "# Nicely formatted time string\n",
    "def hms_string(sec_elapsed):\n",
    "    h = int(sec_elapsed / (60 * 60))\n",
    "    m = int((sec_elapsed % (60 * 60)) / 60)\n",
    "    s = sec_elapsed % 60\n",
    "    return f\"{h}:{m:>02}:{s:>05.2f}\""
   ]
  },
  {
   "cell_type": "markdown",
   "metadata": {},
   "source": [
    "### test"
   ]
  },
  {
   "cell_type": "code",
   "execution_count": 3,
   "metadata": {},
   "outputs": [],
   "source": [
    "SUBTRACT_PIXEL_MEAN = True\n",
    "NUM_CLASSES = 7"
   ]
  },
  {
   "cell_type": "code",
   "execution_count": 4,
   "metadata": {},
   "outputs": [],
   "source": [
    "valPath = os.path.join(\"./seti-data/primary_small/valid\")\n",
    "testPath = os.path.join(\"./seti-data/primary_small/test\")\n",
    "\n",
    "IMAGE_WIDTH = 224\n",
    "IMAGE_HEIGHT = 224\n",
    "\n",
    "(xVal, yValStr) = loadData(valPath, preprocess = [preprocess, IMAGE_WIDTH,  IMAGE_HEIGHT])\n",
    "(xTest, yTestStr) = loadData(testPath, preprocess = [preprocess, IMAGE_WIDTH,  IMAGE_HEIGHT])"
   ]
  },
  {
   "cell_type": "code",
   "execution_count": 5,
   "metadata": {},
   "outputs": [],
   "source": [
    "le = preprocessing.LabelEncoder()\n",
    "yVal = le.fit_transform(yValStr)\n",
    "yTest = le.transform(yTestStr)"
   ]
  },
  {
   "cell_type": "code",
   "execution_count": 6,
   "metadata": {},
   "outputs": [],
   "source": [
    "xVal = xVal.astype('float32') / 255\n",
    "xTest = xTest.astype('float32') / 255\n",
    "\n",
    "if SUBTRACT_PIXEL_MEAN:\n",
    "    xTrainNMean = np.load('geekfile.npy')\n",
    "    xVal -= xTrainNMean\n",
    "    xTest -= xTrainNMean\n",
    "    \n",
    "yVal = tensorflow.keras.utils.to_categorical(yVal, NUM_CLASSES)\n",
    "yTest = tensorflow.keras.utils.to_categorical(yTest, NUM_CLASSES)"
   ]
  },
  {
   "cell_type": "code",
   "execution_count": 7,
   "metadata": {},
   "outputs": [
    {
     "name": "stdout",
     "output_type": "stream",
     "text": [
      "Elapsed time: 0:01:22.95\n"
     ]
    }
   ],
   "source": [
    "import time\n",
    "\n",
    "start_time = time.time()\n",
    "new_model = tensorflow.keras.models.load_model(\"./model/my_model_89.h5\")\n",
    "elapsed_time = time.time() - start_time\n",
    "print(\"Elapsed time: {}\".format(hms_string(elapsed_time)))"
   ]
  },
  {
   "cell_type": "code",
   "execution_count": 8,
   "metadata": {},
   "outputs": [
    {
     "name": "stdout",
     "output_type": "stream",
     "text": [
      "[0.43881555914878845, 0.8957143]\n"
     ]
    }
   ],
   "source": [
    "scores = new_model.evaluate(xVal, yVal, verbose=0)\n",
    "print(scores)"
   ]
  },
  {
   "cell_type": "code",
   "execution_count": 9,
   "metadata": {},
   "outputs": [
    {
     "name": "stdout",
     "output_type": "stream",
     "text": [
      "[0.43807484690632137, 0.89]\n"
     ]
    }
   ],
   "source": [
    "scores = new_model.evaluate(xTest, yTest, verbose=0)\n",
    "print(scores)"
   ]
  },
  {
   "cell_type": "markdown",
   "metadata": {},
   "source": [
    "### test based on kaggle kernel"
   ]
  },
  {
   "cell_type": "code",
   "execution_count": 73,
   "metadata": {},
   "outputs": [],
   "source": [
    "predictions = new_model.predict(xTest, verbose = 0)"
   ]
  },
  {
   "cell_type": "code",
   "execution_count": 74,
   "metadata": {},
   "outputs": [],
   "source": [
    "import sys\n",
    "df = pd.DataFrame(predictions)\n",
    "# df['truth'] = ''\n",
    "df['truth'] = yTestStr\n",
    "df['prediction_index'] = df[[0,1,2,3,4,5,6]].idxmax(axis=1)\n",
    "df['prediction'] = le.inverse_transform(df.prediction_index)"
   ]
  },
  {
   "cell_type": "code",
   "execution_count": 75,
   "metadata": {},
   "outputs": [
    {
     "data": {
      "text/html": [
       "<div>\n",
       "<style scoped>\n",
       "    .dataframe tbody tr th:only-of-type {\n",
       "        vertical-align: middle;\n",
       "    }\n",
       "\n",
       "    .dataframe tbody tr th {\n",
       "        vertical-align: top;\n",
       "    }\n",
       "\n",
       "    .dataframe thead th {\n",
       "        text-align: right;\n",
       "    }\n",
       "</style>\n",
       "<table border=\"1\" class=\"dataframe\">\n",
       "  <thead>\n",
       "    <tr style=\"text-align: right;\">\n",
       "      <th></th>\n",
       "      <th>0</th>\n",
       "      <th>1</th>\n",
       "      <th>2</th>\n",
       "      <th>3</th>\n",
       "      <th>4</th>\n",
       "      <th>5</th>\n",
       "      <th>6</th>\n",
       "      <th>truth</th>\n",
       "      <th>prediction_index</th>\n",
       "      <th>prediction</th>\n",
       "    </tr>\n",
       "  </thead>\n",
       "  <tbody>\n",
       "    <tr>\n",
       "      <th>0</th>\n",
       "      <td>0.999326</td>\n",
       "      <td>1.199023e-06</td>\n",
       "      <td>6.470748e-07</td>\n",
       "      <td>1.992224e-06</td>\n",
       "      <td>6.577445e-04</td>\n",
       "      <td>2.450051e-07</td>\n",
       "      <td>0.000012</td>\n",
       "      <td>brightpixel</td>\n",
       "      <td>0</td>\n",
       "      <td>brightpixel</td>\n",
       "    </tr>\n",
       "    <tr>\n",
       "      <th>1</th>\n",
       "      <td>0.999523</td>\n",
       "      <td>9.197120e-07</td>\n",
       "      <td>2.432659e-07</td>\n",
       "      <td>3.335839e-04</td>\n",
       "      <td>1.970820e-07</td>\n",
       "      <td>2.020488e-05</td>\n",
       "      <td>0.000122</td>\n",
       "      <td>brightpixel</td>\n",
       "      <td>0</td>\n",
       "      <td>brightpixel</td>\n",
       "    </tr>\n",
       "    <tr>\n",
       "      <th>2</th>\n",
       "      <td>0.998158</td>\n",
       "      <td>2.204430e-07</td>\n",
       "      <td>3.751998e-08</td>\n",
       "      <td>6.360798e-10</td>\n",
       "      <td>1.834538e-03</td>\n",
       "      <td>7.255727e-07</td>\n",
       "      <td>0.000007</td>\n",
       "      <td>brightpixel</td>\n",
       "      <td>0</td>\n",
       "      <td>brightpixel</td>\n",
       "    </tr>\n",
       "    <tr>\n",
       "      <th>3</th>\n",
       "      <td>0.999547</td>\n",
       "      <td>1.241362e-06</td>\n",
       "      <td>8.348057e-06</td>\n",
       "      <td>2.801670e-06</td>\n",
       "      <td>3.493109e-04</td>\n",
       "      <td>9.475923e-06</td>\n",
       "      <td>0.000082</td>\n",
       "      <td>brightpixel</td>\n",
       "      <td>0</td>\n",
       "      <td>brightpixel</td>\n",
       "    </tr>\n",
       "    <tr>\n",
       "      <th>4</th>\n",
       "      <td>0.050795</td>\n",
       "      <td>1.310674e-03</td>\n",
       "      <td>1.983694e-02</td>\n",
       "      <td>8.827125e-01</td>\n",
       "      <td>4.279892e-02</td>\n",
       "      <td>2.594446e-04</td>\n",
       "      <td>0.002287</td>\n",
       "      <td>brightpixel</td>\n",
       "      <td>3</td>\n",
       "      <td>noise</td>\n",
       "    </tr>\n",
       "  </tbody>\n",
       "</table>\n",
       "</div>"
      ],
      "text/plain": [
       "          0             1             2             3             4  \\\n",
       "0  0.999326  1.199023e-06  6.470748e-07  1.992224e-06  6.577445e-04   \n",
       "1  0.999523  9.197120e-07  2.432659e-07  3.335839e-04  1.970820e-07   \n",
       "2  0.998158  2.204430e-07  3.751998e-08  6.360798e-10  1.834538e-03   \n",
       "3  0.999547  1.241362e-06  8.348057e-06  2.801670e-06  3.493109e-04   \n",
       "4  0.050795  1.310674e-03  1.983694e-02  8.827125e-01  4.279892e-02   \n",
       "\n",
       "              5         6        truth  prediction_index   prediction  \n",
       "0  2.450051e-07  0.000012  brightpixel                 0  brightpixel  \n",
       "1  2.020488e-05  0.000122  brightpixel                 0  brightpixel  \n",
       "2  7.255727e-07  0.000007  brightpixel                 0  brightpixel  \n",
       "3  9.475923e-06  0.000082  brightpixel                 0  brightpixel  \n",
       "4  2.594446e-04  0.002287  brightpixel                 3        noise  "
      ]
     },
     "execution_count": 75,
     "metadata": {},
     "output_type": "execute_result"
    }
   ],
   "source": [
    "df.head()"
   ]
  },
  {
   "cell_type": "code",
   "execution_count": 76,
   "metadata": {},
   "outputs": [],
   "source": [
    "cm = confusion_matrix(df['truth'], df['prediction'])\n",
    "cm_df = pd.DataFrame(cm)\n",
    "cm_df.columns = le.inverse_transform([0,1,2,3,4,5,6])\n",
    "cm_df['signal'] = le.inverse_transform([0,1,2,3,4,5,6])"
   ]
  },
  {
   "cell_type": "code",
   "execution_count": 77,
   "metadata": {},
   "outputs": [
    {
     "data": {
      "text/html": [
       "<div>\n",
       "<style scoped>\n",
       "    .dataframe tbody tr th:only-of-type {\n",
       "        vertical-align: middle;\n",
       "    }\n",
       "\n",
       "    .dataframe tbody tr th {\n",
       "        vertical-align: top;\n",
       "    }\n",
       "\n",
       "    .dataframe thead th {\n",
       "        text-align: right;\n",
       "    }\n",
       "</style>\n",
       "<table border=\"1\" class=\"dataframe\">\n",
       "  <thead>\n",
       "    <tr style=\"text-align: right;\">\n",
       "      <th></th>\n",
       "      <th>brightpixel</th>\n",
       "      <th>narrowband</th>\n",
       "      <th>narrowbanddrd</th>\n",
       "      <th>noise</th>\n",
       "      <th>squarepulsednarrowband</th>\n",
       "      <th>squiggle</th>\n",
       "      <th>squigglesquarepulsednarrowband</th>\n",
       "      <th>signal</th>\n",
       "    </tr>\n",
       "  </thead>\n",
       "  <tbody>\n",
       "    <tr>\n",
       "      <th>0</th>\n",
       "      <td>78</td>\n",
       "      <td>0</td>\n",
       "      <td>0</td>\n",
       "      <td>21</td>\n",
       "      <td>0</td>\n",
       "      <td>0</td>\n",
       "      <td>1</td>\n",
       "      <td>brightpixel</td>\n",
       "    </tr>\n",
       "    <tr>\n",
       "      <th>1</th>\n",
       "      <td>0</td>\n",
       "      <td>99</td>\n",
       "      <td>1</td>\n",
       "      <td>0</td>\n",
       "      <td>0</td>\n",
       "      <td>0</td>\n",
       "      <td>0</td>\n",
       "      <td>narrowband</td>\n",
       "    </tr>\n",
       "    <tr>\n",
       "      <th>2</th>\n",
       "      <td>0</td>\n",
       "      <td>17</td>\n",
       "      <td>73</td>\n",
       "      <td>7</td>\n",
       "      <td>2</td>\n",
       "      <td>1</td>\n",
       "      <td>0</td>\n",
       "      <td>narrowbanddrd</td>\n",
       "    </tr>\n",
       "    <tr>\n",
       "      <th>3</th>\n",
       "      <td>2</td>\n",
       "      <td>0</td>\n",
       "      <td>0</td>\n",
       "      <td>94</td>\n",
       "      <td>1</td>\n",
       "      <td>1</td>\n",
       "      <td>2</td>\n",
       "      <td>noise</td>\n",
       "    </tr>\n",
       "    <tr>\n",
       "      <th>4</th>\n",
       "      <td>0</td>\n",
       "      <td>1</td>\n",
       "      <td>2</td>\n",
       "      <td>8</td>\n",
       "      <td>86</td>\n",
       "      <td>1</td>\n",
       "      <td>2</td>\n",
       "      <td>squarepulsednarrowband</td>\n",
       "    </tr>\n",
       "    <tr>\n",
       "      <th>5</th>\n",
       "      <td>0</td>\n",
       "      <td>1</td>\n",
       "      <td>0</td>\n",
       "      <td>1</td>\n",
       "      <td>0</td>\n",
       "      <td>98</td>\n",
       "      <td>0</td>\n",
       "      <td>squiggle</td>\n",
       "    </tr>\n",
       "    <tr>\n",
       "      <th>6</th>\n",
       "      <td>1</td>\n",
       "      <td>0</td>\n",
       "      <td>0</td>\n",
       "      <td>1</td>\n",
       "      <td>1</td>\n",
       "      <td>2</td>\n",
       "      <td>95</td>\n",
       "      <td>squigglesquarepulsednarrowband</td>\n",
       "    </tr>\n",
       "  </tbody>\n",
       "</table>\n",
       "</div>"
      ],
      "text/plain": [
       "   brightpixel  narrowband  narrowbanddrd  noise  squarepulsednarrowband  \\\n",
       "0           78           0              0     21                       0   \n",
       "1            0          99              1      0                       0   \n",
       "2            0          17             73      7                       2   \n",
       "3            2           0              0     94                       1   \n",
       "4            0           1              2      8                      86   \n",
       "5            0           1              0      1                       0   \n",
       "6            1           0              0      1                       1   \n",
       "\n",
       "   squiggle  squigglesquarepulsednarrowband                          signal  \n",
       "0         0                               1                     brightpixel  \n",
       "1         0                               0                      narrowband  \n",
       "2         1                               0                   narrowbanddrd  \n",
       "3         1                               2                           noise  \n",
       "4         1                               2          squarepulsednarrowband  \n",
       "5        98                               0                        squiggle  \n",
       "6         2                              95  squigglesquarepulsednarrowband  "
      ]
     },
     "execution_count": 77,
     "metadata": {},
     "output_type": "execute_result"
    }
   ],
   "source": [
    "cm_df"
   ]
  },
  {
   "cell_type": "code",
   "execution_count": 78,
   "metadata": {},
   "outputs": [
    {
     "data": {
      "text/plain": [
       "0.89"
      ]
     },
     "execution_count": 78,
     "metadata": {},
     "output_type": "execute_result"
    }
   ],
   "source": [
    "accuracy = accuracy_score(df['truth'], df['prediction'])\n",
    "accuracy"
   ]
  },
  {
   "cell_type": "code",
   "execution_count": null,
   "metadata": {},
   "outputs": [],
   "source": []
  }
 ],
 "metadata": {
  "kernelspec": {
   "display_name": "Python 3",
   "language": "python",
   "name": "python3"
  },
  "language_info": {
   "codemirror_mode": {
    "name": "ipython",
    "version": 3
   },
   "file_extension": ".py",
   "mimetype": "text/x-python",
   "name": "python",
   "nbconvert_exporter": "python",
   "pygments_lexer": "ipython3",
   "version": "3.6.9"
  }
 },
 "nbformat": 4,
 "nbformat_minor": 2
}
